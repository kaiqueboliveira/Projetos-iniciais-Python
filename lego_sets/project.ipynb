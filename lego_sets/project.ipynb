{
 "cells": [
  {
   "cell_type": "markdown",
   "metadata": {
    "dc": {
     "key": "3"
    },
    "deletable": false,
    "editable": false,
    "run_control": {
     "frozen": true
    },
    "tags": [
     "context"
    ]
   },
   "source": [
    "## # Introdução\n",
    "<p><img src=\"https://assets.datacamp.com/production/project_981/img/lego_unsplash.jpg\" alt=\"A picture of Lego characters!\"></p>\n",
    "<h3 id=\"letslookatlegosets\">Vamos dar uma olhada nos conjuntos de Lego!</h3>\n",
    "<p>Lego é um nome conhecido no mundo todo, apoiado por uma linha de brinquedos diversificada, filmes de sucesso e uma série de videogames de sucesso. Neste projeto, vamos explorar um desenvolvimento importante na história da Lego: a introdução de conjuntos licenciados como Star Wars, Super Heroes e Harry Potter.</p>\n",
    "<p>Pode não ser amplamente conhecido, mas a Lego teve sua cota de altos e baixos desde seu início no início do século XX. Isso inclui um período particularmente difícil no final dos anos 90. Conforme descrito em <a href=\"https://www.businessinsider.com/how-lego-made-a-huge-turnaround-2014-2?r=US&IR=T\">este artigo</a>, A Lego só conseguiu sobreviver devido a uma marca interna de sucesso (Bionicle) e à introdução de sua primeira série licenciada: Star Wars. No painel de instruções estão as duas perguntas que você precisará responder para concluir este projeto.</p>\n",
    "<p>Antes de mergulhar em nossa análise, vamos nos familiarizar com os dois conjuntos de dados que ajudarão você neste projeto:<br><br></p>\n",
    "<div style=\"background-color: #ebf4f7; color: #595959; text-align:left; vertical-align: middle; padding: 15px 25px 15px 25px; line-height: 1.6;\">\n",
    "    <div style=\"font-size:20px\"><b>datasets/lego_sets.csv</b></div>\n",
    "<ul>\n",
    "    <li><b>set_num:</b> Um código exclusivo para cada conjunto no conjunto de dados. <b><i>Esta coluna é crítica e um valor ausente indica que o conjunto é duplicado ou inválido!</i></b></li>\n",
    "    <li><b>set_name:</b> Um nome para cada conjunto no conjunto de dados (observe que ele pode ser o mesmo para conjuntos diferentes).</li>\n",
    "    <li><b>year:</b> A data em que o conjunto foi lançado.</li>\n",
    "    <li><b>num_parts:</b> O número de peças contidas no conjunto.<b><i> Esta coluna não é central para nossas análises, portanto valores ausentes são aceitáveis.</i></b></li>\n",
    "        <li><b>theme_name:</b> O nome do subtema do conjunto.</li>\n",
    "    <li><b>parent_theme:</b> O nome do tema pai ao qual o conjunto pertence. Corresponde à coluna `name` do `parent_themes` csv file.</li>\n",
    "</ul>\n",
    "\n",
    "<div style=\"font-size:20px\"><b>datasets/parent_themes.csv</b></div>\n",
    "<ul>\n",
    "    <li><b>id:</b> A code that is unique to every theme.</li>\n",
    "    <li><b>name:</b> The name of the parent theme.</li>\n",
    "    <li><b>is_licensed:</b> A Boolean column specifying whether the theme is a licensed theme.</li>\n",
    "</ul>\n",
    "    </div>\n",
    "<p>Daqui em diante, será sua tarefa explorar e manipular os dados existentes até que você consiga responder às duas perguntas descritas no painel de instruções. Sinta-se à vontade para adicionar quantas células forem necessárias. Por fim, lembre-se de que você só é testado em sua resposta, não nos métodos que usa para chegar à resposta!</p>\n",
    "<p><em><strong>Note:</strong> Se você ainda não concluiu um projeto DataCamp, você deve verificar o <a href=\"https://projects.datacamp.com/projects/33\">Introdução aos Projetos</a> primeiro a aprender sobre a interface. Neste projeto, você também precisa saber como se locomover <code>pandas</code> DataFrames e é recomendado que você dê uma olhada no curso <a href=\"https://www.datacamp.com/courses/data-manipulation-with-pandas\">Data Manipulation with pandas</a>.</em></p>"
   ]
  },
  {
   "cell_type": "code",
   "execution_count": 2,
   "metadata": {
    "dc": {
     "key": "3"
    },
    "tags": [
     "sample_code"
    ]
   },
   "outputs": [
    {
     "ename": "ModuleNotFoundError",
     "evalue": "No module named 'pandas'",
     "output_type": "error",
     "traceback": [
      "\u001b[0;31m---------------------------------------------------------------------------\u001b[0m",
      "\u001b[0;31mModuleNotFoundError\u001b[0m                       Traceback (most recent call last)",
      "Cell \u001b[0;32mIn[2], line 2\u001b[0m\n\u001b[1;32m      1\u001b[0m \u001b[38;5;66;03m# Use this cell to begin your analyses, and add as many cells as you would like!\u001b[39;00m\n\u001b[0;32m----> 2\u001b[0m \u001b[38;5;28;01mimport\u001b[39;00m \u001b[38;5;21;01mpandas\u001b[39;00m \u001b[38;5;28;01mas\u001b[39;00m \u001b[38;5;21;01mpd\u001b[39;00m\n\u001b[1;32m      4\u001b[0m df \u001b[38;5;241m=\u001b[39m pd\u001b[38;5;241m.\u001b[39mread_csv(\u001b[38;5;124m'\u001b[39m\u001b[38;5;124mhttps://raw.githubusercontent.com/KeithGalli/lego-analysis/master/datasets/lego_sets.csv\u001b[39m\u001b[38;5;124m'\u001b[39m)\n\u001b[1;32m      5\u001b[0m parent_theme \u001b[38;5;241m=\u001b[39m pd\u001b[38;5;241m.\u001b[39mread_csv(\u001b[38;5;124m'\u001b[39m\u001b[38;5;124mhttps://raw.githubusercontent.com/KeithGalli/lego-analysis/master/datasets/parent_themes.csv\u001b[39m\u001b[38;5;124m'\u001b[39m)\n",
      "\u001b[0;31mModuleNotFoundError\u001b[0m: No module named 'pandas'"
     ]
    }
   ],
   "source": [
    "# Use this cell to begin your analyses, and add as many cells as you would like!\n",
    "import pandas as pd\n",
    "\n",
    "df = pd.read_csv('https://raw.githubusercontent.com/KeithGalli/lego-analysis/master/datasets/lego_sets.csv')\n",
    "parent_theme = pd.read_csv('https://raw.githubusercontent.com/KeithGalli/lego-analysis/master/datasets/parent_themes.csv')"
   ]
  }
 ],
 "metadata": {
  "kernelspec": {
   "display_name": "Python 3 (ipykernel)",
   "language": "python",
   "name": "python3"
  },
  "language_info": {
   "codemirror_mode": {
    "name": "ipython",
    "version": 3
   },
   "file_extension": ".py",
   "mimetype": "text/x-python",
   "name": "python",
   "nbconvert_exporter": "python",
   "pygments_lexer": "ipython3",
   "version": "3.12.3"
  }
 },
 "nbformat": 4,
 "nbformat_minor": 2
}
